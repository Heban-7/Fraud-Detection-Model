{
 "cells": [
  {
   "cell_type": "markdown",
   "metadata": {},
   "source": [
    "# Credit Card Fraud Detection Models Training\n",
    "\n",
    "**Models**\n",
    "* Logistic Regression\n",
    "* Decision Tree\n",
    "* Random Forest"
   ]
  },
  {
   "cell_type": "code",
   "execution_count": 1,
   "metadata": {},
   "outputs": [],
   "source": [
    "# Import necessary libraries\n",
    "import pandas as pd \n",
    "import numpy as np\n",
    "import os, sys\n",
    "import warnings\n",
    "warnings.filterwarnings('ignore')\n",
    "\n",
    "# Get working directory\n",
    "sys.path.append(os.path.abspath('..'))\n",
    "\n",
    "# import model training scripts\n",
    "from scripts.ml_model_training import *"
   ]
  },
  {
   "cell_type": "code",
   "execution_count": 2,
   "metadata": {},
   "outputs": [
    {
     "data": {
      "text/plain": [
       "((227845, 30), (56962, 30), (227845,), (56962,))"
      ]
     },
     "execution_count": 2,
     "metadata": {},
     "output_type": "execute_result"
    }
   ],
   "source": [
    "# load credit card data\n",
    "filepath = '../data/creditcard.csv'\n",
    "df = load_data(filepath)\n",
    "\n",
    "# get feature and target variable\n",
    "X, y = df.drop(columns=['Class']), df['Class']\n",
    "\n",
    "# get train and test set\n",
    "X_train, X_test, y_train, y_test = get_train_test_split(X, y)\n",
    "\n",
    "X_train.shape, X_test.shape, y_train.shape, y_test.shape"
   ]
  },
  {
   "cell_type": "markdown",
   "metadata": {},
   "source": [
    "## Training on Logistic Regression Model"
   ]
  },
  {
   "cell_type": "code",
   "execution_count": 3,
   "metadata": {},
   "outputs": [
    {
     "name": "stdout",
     "output_type": "stream",
     "text": [
      "Fitting 5 folds for each of 24 candidates, totalling 120 fits\n",
      "Logistic Regression Evaluation\n",
      "===============================\n",
      "Accuracy: 0.9991\n",
      "Precision: 0.8636\n",
      "Recall: 0.5816\n",
      "F1: 0.6951\n",
      "Roc_auc: 0.7907\n",
      "Confusion Matrix:\n",
      "[[56855     9]\n",
      " [   41    57]]\n"
     ]
    }
   ],
   "source": [
    "# Call the model\n",
    "lr_model = LogisticRegressionModel()\n",
    "\n",
    "# Fit into train dataset\n",
    "lr_model.fit(X_train, y_train)\n",
    "\n",
    "# Make a prediction\n",
    "y_pred_lr = lr_model.predict(X_test)\n",
    "\n",
    "# Evaluate the model\n",
    "lr_metrics = lr_model.evaluate(y_test, y_pred_lr)\n"
   ]
  },
  {
   "cell_type": "markdown",
   "metadata": {},
   "source": [
    "## Training on Decesion Tree Model"
   ]
  },
  {
   "cell_type": "code",
   "execution_count": 4,
   "metadata": {},
   "outputs": [
    {
     "name": "stdout",
     "output_type": "stream",
     "text": [
      "Fitting 5 folds for each of 72 candidates, totalling 360 fits\n",
      "Dicision Tree Model Evaluation\n",
      "==============================\n",
      "Accuracy: 0.9994\n",
      "Precision: 0.9437\n",
      "Recall: 0.6837\n",
      "F1: 0.7929\n",
      "Roc_auc: 0.8418\n",
      "Confusion Matrix:\n",
      "[[56860     4]\n",
      " [   31    67]]\n"
     ]
    }
   ],
   "source": [
    "# Call the model\n",
    "dt_model  = DecisionTreeModel()\n",
    "\n",
    "# Fit into train dataset\n",
    "dt_model.fit(X_train, y_train)\n",
    "\n",
    "# Make a Prediction\n",
    "y_pred_dt = dt_model.predict(X_test)\n",
    "\n",
    "# Evaluate the model\n",
    "dt_metrics = dt_model.evaluate(y_test, y_pred_dt)"
   ]
  },
  {
   "cell_type": "markdown",
   "metadata": {},
   "source": [
    "## Training on Random Forest Model"
   ]
  },
  {
   "cell_type": "code",
   "execution_count": 5,
   "metadata": {},
   "outputs": [
    {
     "name": "stdout",
     "output_type": "stream",
     "text": [
      "Fitting 5 folds for each of 72 candidates, totalling 360 fits\n",
      "Dicision Tree Model Evaluation\n",
      "==============================\n",
      "Accuracy: 0.9996\n",
      "Precision: 0.9625\n",
      "Recall: 0.7857\n",
      "F1: 0.8652\n",
      "Roc_auc: 0.8928\n",
      "Confusion Matrix:\n",
      "[[56861     3]\n",
      " [   21    77]]\n"
     ]
    }
   ],
   "source": [
    "# Call the model\n",
    "rf_model = RandomForestModel()\n",
    "\n",
    "# Fit into train Dataset\n",
    "rf_model.fit(X_train, y_train)\n",
    "\n",
    "# Make a prediction\n",
    "y_pred_rf = rf_model.predict(X_test)\n",
    "\n",
    "# Evaluate the model\n",
    "rf_metrics = rf_model.evaluate(y_test, y_pred_rf)"
   ]
  },
  {
   "cell_type": "markdown",
   "metadata": {},
   "source": [
    "## Model Comparison"
   ]
  },
  {
   "cell_type": "code",
   "execution_count": 6,
   "metadata": {},
   "outputs": [
    {
     "name": "stdout",
     "output_type": "stream",
     "text": [
      "\n",
      "Model Comparison Metrics\n",
      "==========================\n",
      "                     accuracy  precision    recall        f1   roc_auc\n",
      "Logistic Regression  0.999122   0.863636  0.581633  0.695122  0.790737\n",
      "Decision Tree        0.999386   0.943662  0.683673  0.792899  0.841802\n",
      "Random Forest        0.999579   0.962500  0.785714  0.865169  0.892831\n"
     ]
    },
    {
     "data": {
      "text/plain": [
       "<Figure size 1200x800 with 0 Axes>"
      ]
     },
     "metadata": {},
     "output_type": "display_data"
    },
    {
     "data": {
      "image/png": "[encoded data removed]",
      "text/plain": [
       "<Figure size 640x480 with 1 Axes>"
      ]
     },
     "metadata": {},
     "output_type": "display_data"
    }
   ],
   "source": [
    "model_metrics = {\n",
    "    'Logistic Regression': lr_metrics,\n",
    "    'Decision Tree': dt_metrics,\n",
    "    'Random Forest': rf_metrics\n",
    "    }\n",
    "model_comparison = compare_model(model_metrics)"
   ]
  },
  {
   "cell_type": "markdown",
   "metadata": {},
   "source": [
    "#### Conclusion \n",
    "From the comparison, Random Forest outperforms both Logistic Regression and Decision Tree across all key metrics. While all models achieve very high accuracy (~99.9%), Random Forest excels in recall (78.57%), F1-score (86.52%), and ROC-AUC (89.28%), indicating better overall predictive power and generalization.\n",
    "\n",
    "Decision Tree follows closely behind with a solid balance between precision (94.37%) and recall (68.37%), making it a viable option if model interpretability is a priority. Logistic Regression, while still performing well, has the lowest recall (58.16%) and F1-score (69.51%), making it less effective for cases where capturing the positive class is critical.\n",
    "\n",
    "#### Model Selection:\n",
    "Random Forest is the best choice due to its superior recall, F1-score, and ROC-AUC, ensuring better classification performance and robustness. It is ideal for tasks requiring high predictive accuracy and generalization."
   ]
  }
 ],
 "metadata": {
  "kernelspec": {
   "display_name": ".venv",
   "language": "python",
   "name": "python3"
  },
  "language_info": {
   "codemirror_mode": {
    "name": "ipython",
    "version": 3
   },
   "file_extension": ".py",
   "mimetype": "text/x-python",
   "name": "python",
   "nbconvert_exporter": "python",
   "pygments_lexer": "ipython3",
   "version": "3.11.9"
  }
 },
 "nbformat": 4,
 "nbformat_minor": 2
}
