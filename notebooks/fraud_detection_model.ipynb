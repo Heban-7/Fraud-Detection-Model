{
 "cells": [
  {
   "cell_type": "markdown",
   "metadata": {},
   "source": [
    "# Fraud Detection Model Trainning"
   ]
  },
  {
   "cell_type": "markdown",
   "metadata": {},
   "source": [
    "**Models:**\n",
    "* Logistic Regression\n",
    "* Disicion Tree Classifier\n",
    "* Random Forest Classifier"
   ]
  },
  {
   "cell_type": "code",
   "execution_count": 10,
   "metadata": {},
   "outputs": [],
   "source": [
    "# Import necessary libraries\n",
    "import pandas as pd \n",
    "import numpy as np\n",
    "import os, sys\n",
    "import warnings\n",
    "warnings.filterwarnings('ignore')\n",
    "\n",
    "# Get working directory\n",
    "sys.path.append(os.path.abspath('..'))\n",
    "\n",
    "# import model training scripts\n",
    "from scripts.ml_model_training import *\n"
   ]
  },
  {
   "cell_type": "code",
   "execution_count": 11,
   "metadata": {},
   "outputs": [
    {
     "data": {
      "text/plain": [
       "((103316, 42), (25830, 42), (103316,), (25830,))"
      ]
     },
     "execution_count": 11,
     "metadata": {},
     "output_type": "execute_result"
    }
   ],
   "source": [
    "# load preprocessed fraud data\n",
    "filepath = '../data/processed_fraud_data.csv'\n",
    "df = load_data(filepath)\n",
    "\n",
    "# get feature and target variable\n",
    "X, y = feature_target_split(df)\n",
    "\n",
    "# get train and test set\n",
    "X_train, X_test, y_train, y_test = get_train_test_split(X, y)\n",
    "\n",
    "X_train.shape, X_test.shape, y_train.shape, y_test.shape"
   ]
  },
  {
   "cell_type": "markdown",
   "metadata": {},
   "source": [
    "## Training on Logistic Regression Model"
   ]
  },
  {
   "cell_type": "code",
   "execution_count": 3,
   "metadata": {},
   "outputs": [
    {
     "name": "stdout",
     "output_type": "stream",
     "text": [
      "Fitting 5 folds for each of 24 candidates, totalling 120 fits\n",
      "Logistic Regression Evaluation\n",
      "===============================\n",
      "Accuracy: 0.9564\n",
      "Precision: 0.9870\n",
      "Recall: 0.5389\n",
      "F1: 0.6972\n",
      "Roc_auc: 0.7691\n",
      "Confusion Matrix:\n",
      "[[23410    17]\n",
      " [ 1108  1295]]\n"
     ]
    }
   ],
   "source": [
    "# Call the model\n",
    "lr_model = LogisticRegressionModel()\n",
    "\n",
    "# Fit into train dataset\n",
    "lr_model.fit(X_train, y_train)\n",
    "\n",
    "# Make a prediction\n",
    "y_pred_lr = lr_model.predict(X_test)\n",
    "\n",
    "# Evaluate the model\n",
    "lr_metrics = lr_model.evaluate(y_test, y_pred_lr)\n"
   ]
  },
  {
   "cell_type": "markdown",
   "metadata": {},
   "source": [
    "## Training on Decision Tree Model"
   ]
  },
  {
   "cell_type": "code",
   "execution_count": 4,
   "metadata": {},
   "outputs": [
    {
     "name": "stdout",
     "output_type": "stream",
     "text": [
      "Fitting 5 folds for each of 72 candidates, totalling 360 fits\n",
      "Dicision Tree Model Evaluation\n",
      "==============================\n",
      "Accuracy: 0.9568\n",
      "Precision: 1.0000\n",
      "Recall: 0.5360\n",
      "F1: 0.6979\n",
      "Roc_auc: 0.7680\n",
      "Confusion Matrix:\n",
      "[[23427     0]\n",
      " [ 1115  1288]]\n"
     ]
    }
   ],
   "source": [
    "# Call the model\n",
    "dt_model  = DecisionTreeModel()\n",
    "\n",
    "# Fit into train dataset\n",
    "dt_model.fit(X_train, y_train)\n",
    "\n",
    "# Make a Prediction\n",
    "y_pred_dt = dt_model.predict(X_test)\n",
    "\n",
    "# Evaluate the model\n",
    "dt_metrics = dt_model.evaluate(y_test, y_pred_dt)"
   ]
  },
  {
   "cell_type": "markdown",
   "metadata": {},
   "source": [
    "## Training on Random Forest Model"
   ]
  },
  {
   "cell_type": "code",
   "execution_count": 5,
   "metadata": {},
   "outputs": [
    {
     "name": "stdout",
     "output_type": "stream",
     "text": [
      "Fitting 5 folds for each of 72 candidates, totalling 360 fits\n",
      "Dicision Tree Model Evaluation\n",
      "==============================\n",
      "Accuracy: 0.9567\n",
      "Precision: 0.9977\n",
      "Recall: 0.5360\n",
      "F1: 0.6973\n",
      "Roc_auc: 0.7679\n",
      "Confusion Matrix:\n",
      "[[23424     3]\n",
      " [ 1115  1288]]\n"
     ]
    }
   ],
   "source": [
    "# Call the model\n",
    "rf_model = RandomForestModel()\n",
    "\n",
    "# Fit into train Dataset\n",
    "rf_model.fit(X_train, y_train)\n",
    "\n",
    "# Make a prediction\n",
    "y_pred_rf = rf_model.predict(X_test)\n",
    "\n",
    "# Evaluate the model\n",
    "rf_metrics = rf_model.evaluate(y_test, y_pred_rf)"
   ]
  },
  {
   "cell_type": "markdown",
   "metadata": {},
   "source": [
    "## Model Comparison"
   ]
  },
  {
   "cell_type": "code",
   "execution_count": 13,
   "metadata": {},
   "outputs": [
    {
     "name": "stdout",
     "output_type": "stream",
     "text": [
      "\n",
      "Model Comparison Metrics\n",
      "==========================\n",
      "                     accuracy  precision    recall        f1   roc_auc\n",
      "Logistic Regression  0.956446   0.987043  0.538910  0.697174  0.769092\n",
      "Decision Tree        0.956833   1.000000  0.535997  0.697914  0.767998\n",
      "Random Forest        0.956717   0.997676  0.535997  0.697347  0.767934\n"
     ]
    },
    {
     "data": {
      "text/plain": [
       "<Figure size 1200x800 with 0 Axes>"
      ]
     },
     "metadata": {},
     "output_type": "display_data"
    },
    {
     "data": {
      "image/png": "[encoded data removed]",
      "text/plain": [
       "<Figure size 640x480 with 1 Axes>"
      ]
     },
     "metadata": {},
     "output_type": "display_data"
    }
   ],
   "source": [
    "model_metrics = {\n",
    "    'Logistic Regression': lr_metrics,\n",
    "    'Decision Tree': dt_metrics,\n",
    "    'Random Forest': rf_metrics\n",
    "    }\n",
    "model_comparison = compare_model(model_metrics)"
   ]
  },
  {
   "cell_type": "markdown",
   "metadata": {},
   "source": [
    "## Save the Model"
   ]
  },
  {
   "cell_type": "code",
   "execution_count": 9,
   "metadata": {},
   "outputs": [
    {
     "name": "stdout",
     "output_type": "stream",
     "text": [
      "Model saved Successfully!\n"
     ]
    }
   ],
   "source": [
    "import pickle\n",
    "with open(\"../data/fraud_detection_rf_model.pkl\", \"wb\") as file:\n",
    "    pickle.dump(rf_model.grid_search.best_estimator_, file)\n",
    "\n",
    "print(\"Model saved Successfully!\")"
   ]
  },
  {
   "cell_type": "code",
   "execution_count": 14,
   "metadata": {},
   "outputs": [
    {
     "name": "stdout",
     "output_type": "stream",
     "text": [
      "Model saved Successfully!\n"
     ]
    }
   ],
   "source": [
    "# Save model for model deployment\n",
    "import pickle\n",
    "with open(\"../ModelDeployment/model/fraud_detection_rf_model.pkl\", \"wb\") as file:\n",
    "    pickle.dump(rf_model.grid_search.best_estimator_, file)\n",
    "\n",
    "print(\"Model saved Successfully!\")"
   ]
  },
  {
   "cell_type": "code",
   "execution_count": null,
   "metadata": {},
   "outputs": [],
   "source": []
  }
 ],
 "metadata": {
  "kernelspec": {
   "display_name": ".venv",
   "language": "python",
   "name": "python3"
  },
  "language_info": {
   "codemirror_mode": {
    "name": "ipython",
    "version": 3
   },
   "file_extension": ".py",
   "mimetype": "text/x-python",
   "name": "python",
   "nbconvert_exporter": "python",
   "pygments_lexer": "ipython3",
   "version": "3.11.9"
  }
 },
 "nbformat": 4,
 "nbformat_minor": 2
}
